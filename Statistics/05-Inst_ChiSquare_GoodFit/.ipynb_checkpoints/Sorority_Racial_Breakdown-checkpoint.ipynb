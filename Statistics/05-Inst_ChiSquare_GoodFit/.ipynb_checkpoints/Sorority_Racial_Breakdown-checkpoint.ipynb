{
 "cells": [
  {
   "cell_type": "code",
   "execution_count": 139,
   "metadata": {
    "collapsed": true
   },
   "outputs": [],
   "source": [
    "# Dependencies\n",
    "import numpy as np\n",
    "import pandas as pd\n",
    "import scipy.stats as stats\n",
    "import matplotlib.pyplot as plt\n",
    "import math"
   ]
  },
  {
   "cell_type": "code",
   "execution_count": 311,
   "metadata": {
    "collapsed": false
   },
   "outputs": [],
   "source": [
    "# Generate \"Simulated\" Data\n",
    "# sorority_races = np.random.choice([\"White\", \"Asian\", \"Black\", \"Latino\", \"Mixed/Other\"], 125, p=[0.56, 0.05, 0.12, 0.24, 0.03])\n",
    "sorority_races = np.random.choice([\"White\", \"Asian\", \"Black\", \"Latino\", \"Mixed/Other\"], 125, p=[0.75, 0.05, 0.10, 0.07, 0.03])\n",
    "university_races = np.random.choice([\"White\", \"Asian\", \"Black\", \"Latino\", \"Mixed/Other\"], 1500, p=[0.55, 0.06, 0.12, 0.24, 0.03])"
   ]
  },
  {
   "cell_type": "code",
   "execution_count": 312,
   "metadata": {
    "collapsed": false
   },
   "outputs": [
    {
     "data": {
      "text/plain": [
       "White          90\n",
       "Black          14\n",
       "Asian           8\n",
       "Latino          8\n",
       "Mixed/Other     5\n",
       "Name: 0, dtype: int64"
      ]
     },
     "execution_count": 312,
     "metadata": {},
     "output_type": "execute_result"
    }
   ],
   "source": [
    "sorority_pd = pd.DataFrame(sorority_races)\n",
    "sorority_counts = sorority_pd[0].value_counts()\n",
    "sorority_counts"
   ]
  },
  {
   "cell_type": "code",
   "execution_count": 313,
   "metadata": {
    "collapsed": false
   },
   "outputs": [
    {
     "data": {
      "text/plain": [
       "White          848\n",
       "Latino         357\n",
       "Black          167\n",
       "Asian           88\n",
       "Mixed/Other     40\n",
       "Name: 0, dtype: int64"
      ]
     },
     "execution_count": 313,
     "metadata": {},
     "output_type": "execute_result"
    }
   ],
   "source": [
    "university_pd = pd.DataFrame(university_races)\n",
    "university_counts = university_pd[0].value_counts()\n",
    "university_counts"
   ]
  },
  {
   "cell_type": "code",
   "execution_count": 314,
   "metadata": {
    "collapsed": false
   },
   "outputs": [
    {
     "data": {
      "text/plain": [
       "White          0.565333\n",
       "Latino         0.238000\n",
       "Black          0.111333\n",
       "Asian          0.058667\n",
       "Mixed/Other    0.026667\n",
       "Name: 0, dtype: float64"
      ]
     },
     "execution_count": 314,
     "metadata": {},
     "output_type": "execute_result"
    }
   ],
   "source": [
    "university_ratios = university_pd[0].value_counts() / len(university_pd)\n",
    "university_ratios"
   ]
  },
  {
   "cell_type": "code",
   "execution_count": 315,
   "metadata": {
    "collapsed": false
   },
   "outputs": [
    {
     "data": {
      "text/plain": [
       "White          70.666667\n",
       "Latino         29.750000\n",
       "Black          13.916667\n",
       "Asian           7.333333\n",
       "Mixed/Other     3.333333\n",
       "Name: 0, dtype: float64"
      ]
     },
     "execution_count": 315,
     "metadata": {},
     "output_type": "execute_result"
    }
   ],
   "source": [
    "sorority_expected = university_ratios * len(sorority_pd)\n",
    "sorority_expected"
   ]
  },
  {
   "cell_type": "code",
   "execution_count": 316,
   "metadata": {
    "collapsed": false
   },
   "outputs": [
    {
     "data": {
      "text/plain": [
       "Power_divergenceResult(statistic=17.036951926033915, pvalue=0.0019012547520724427)"
      ]
     },
     "execution_count": 316,
     "metadata": {},
     "output_type": "execute_result"
    }
   ],
   "source": [
    "# Run Chi-Square Test to determine goodness of fit\n",
    "stats.chisquare(f_obs=sorority_counts, f_exp=sorority_expected)"
   ]
  }
 ],
 "metadata": {
  "anaconda-cloud": {},
  "kernelspec": {
   "display_name": "Python [conda env:PythonData]",
   "language": "python",
   "name": "conda-env-PythonData-py"
  },
  "language_info": {
   "codemirror_mode": {
    "name": "ipython",
    "version": 3
   },
   "file_extension": ".py",
   "mimetype": "text/x-python",
   "name": "python",
   "nbconvert_exporter": "python",
   "pygments_lexer": "ipython3",
   "version": "3.5.2"
  }
 },
 "nbformat": 4,
 "nbformat_minor": 1
}
