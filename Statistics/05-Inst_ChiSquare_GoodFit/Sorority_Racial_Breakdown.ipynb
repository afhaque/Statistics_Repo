{
 "cells": [
  {
   "cell_type": "code",
   "execution_count": 139,
   "metadata": {
    "collapsed": true
   },
   "outputs": [],
   "source": [
    "# Dependencies\n",
    "import numpy as np\n",
    "import pandas as pd\n",
    "import scipy.stats as stats\n",
    "import matplotlib.pyplot as plt\n",
    "import math"
   ]
  },
  {
   "cell_type": "code",
   "execution_count": 324,
   "metadata": {
    "collapsed": false
   },
   "outputs": [],
   "source": [
    "# Generate \"Simulated\" Data\n",
    "# sorority_races = np.random.choice([\"White\", \"Asian\", \"Black\", \"Latino\", \"Mixed/Other\"], 125, p=[0.56, 0.05, 0.12, 0.24, 0.03])\n",
    "sorority_races = np.random.choice([\"White\", \"Asian\", \"Black\", \"Latino\", \"Mixed/Other\"], 125, p=[0.75, 0.05, 0.10, 0.07, 0.03])\n",
    "university_races = np.random.choice([\"White\", \"Asian\", \"Black\", \"Latino\", \"Mixed/Other\"], 1500, p=[0.55, 0.06, 0.12, 0.24, 0.03])"
   ]
  },
  {
   "cell_type": "code",
   "execution_count": 325,
   "metadata": {
    "collapsed": false
   },
   "outputs": [
    {
     "data": {
      "text/plain": [
       "White          65\n",
       "Latino         30\n",
       "Black          14\n",
       "Mixed/Other     9\n",
       "Asian           7\n",
       "Name: 0, dtype: int64"
      ]
     },
     "execution_count": 325,
     "metadata": {},
     "output_type": "execute_result"
    }
   ],
   "source": [
    "sorority_pd = pd.DataFrame(sorority_races)\n",
    "sorority_counts = sorority_pd[0].value_counts()\n",
    "sorority_counts"
   ]
  },
  {
   "cell_type": "code",
   "execution_count": 326,
   "metadata": {
    "collapsed": false
   },
   "outputs": [
    {
     "data": {
      "text/plain": [
       "White          843\n",
       "Latino         329\n",
       "Black          186\n",
       "Asian           98\n",
       "Mixed/Other     44\n",
       "Name: 0, dtype: int64"
      ]
     },
     "execution_count": 326,
     "metadata": {},
     "output_type": "execute_result"
    }
   ],
   "source": [
    "university_pd = pd.DataFrame(university_races)\n",
    "university_counts = university_pd[0].value_counts()\n",
    "university_counts"
   ]
  },
  {
   "cell_type": "code",
   "execution_count": 327,
   "metadata": {
    "collapsed": false
   },
   "outputs": [
    {
     "data": {
      "text/plain": [
       "White          0.562000\n",
       "Latino         0.219333\n",
       "Black          0.124000\n",
       "Asian          0.065333\n",
       "Mixed/Other    0.029333\n",
       "Name: 0, dtype: float64"
      ]
     },
     "execution_count": 327,
     "metadata": {},
     "output_type": "execute_result"
    }
   ],
   "source": [
    "university_ratios = university_pd[0].value_counts() / len(university_pd)\n",
    "university_ratios"
   ]
  },
  {
   "cell_type": "code",
   "execution_count": 328,
   "metadata": {
    "collapsed": false
   },
   "outputs": [
    {
     "data": {
      "text/plain": [
       "White          70.250000\n",
       "Latino         27.416667\n",
       "Black          15.500000\n",
       "Asian           8.166667\n",
       "Mixed/Other     3.666667\n",
       "Name: 0, dtype: float64"
      ]
     },
     "execution_count": 328,
     "metadata": {},
     "output_type": "execute_result"
    }
   ],
   "source": [
    "sorority_expected = university_ratios * len(sorority_pd)\n",
    "sorority_expected"
   ]
  },
  {
   "cell_type": "code",
   "execution_count": 329,
   "metadata": {
    "collapsed": false
   },
   "outputs": [
    {
     "data": {
      "text/plain": [
       "Power_divergenceResult(statistic=3.8962614757108609, pvalue=0.42022734500261694)"
      ]
     },
     "execution_count": 329,
     "metadata": {},
     "output_type": "execute_result"
    }
   ],
   "source": [
    "# Run Chi-Square Test to determine goodness of fit\n",
    "stats.chisquare(f_obs=sorority_counts, f_exp=sorority_expected)"
   ]
  },
  {
   "cell_type": "code",
   "execution_count": null,
   "metadata": {
    "collapsed": true
   },
   "outputs": [],
   "source": []
  },
  {
   "cell_type": "code",
   "execution_count": null,
   "metadata": {
    "collapsed": true
   },
   "outputs": [],
   "source": []
  },
  {
   "cell_type": "code",
   "execution_count": null,
   "metadata": {
    "collapsed": true
   },
   "outputs": [],
   "source": []
  }
 ],
 "metadata": {
  "anaconda-cloud": {},
  "kernelspec": {
   "display_name": "Python [conda env:PythonData]",
   "language": "python",
   "name": "conda-env-PythonData-py"
  },
  "language_info": {
   "codemirror_mode": {
    "name": "ipython",
    "version": 3
   },
   "file_extension": ".py",
   "mimetype": "text/x-python",
   "name": "python",
   "nbconvert_exporter": "python",
   "pygments_lexer": "ipython3",
   "version": "3.5.2"
  }
 },
 "nbformat": 4,
 "nbformat_minor": 1
}
